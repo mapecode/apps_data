{
 "cells": [
  {
   "cell_type": "markdown",
   "metadata": {},
   "source": [
    "# Exploratory Data Analysis"
   ]
  },
  {
   "cell_type": "code",
   "execution_count": 1,
   "metadata": {},
   "outputs": [],
   "source": [
    "import pandas as pd\n",
    "import matplotlib.pyplot as plt"
   ]
  },
  {
   "cell_type": "code",
   "execution_count": 2,
   "metadata": {},
   "outputs": [
    {
     "data": {
      "text/plain": [
       "(2312944, 24)"
      ]
     },
     "execution_count": 2,
     "metadata": {},
     "output_type": "execute_result"
    }
   ],
   "source": [
    "android_data = pd.read_csv('./data/Google-Playstore.csv')\n",
    "android_data.shape"
   ]
  },
  {
   "cell_type": "code",
   "execution_count": 3,
   "metadata": {},
   "outputs": [
    {
     "data": {
      "text/html": [
       "<div>\n",
       "<style scoped>\n",
       "    .dataframe tbody tr th:only-of-type {\n",
       "        vertical-align: middle;\n",
       "    }\n",
       "\n",
       "    .dataframe tbody tr th {\n",
       "        vertical-align: top;\n",
       "    }\n",
       "\n",
       "    .dataframe thead th {\n",
       "        text-align: right;\n",
       "    }\n",
       "</style>\n",
       "<table border=\"1\" class=\"dataframe\">\n",
       "  <thead>\n",
       "    <tr style=\"text-align: right;\">\n",
       "      <th></th>\n",
       "      <th>App Name</th>\n",
       "      <th>App Id</th>\n",
       "      <th>Category</th>\n",
       "      <th>Rating</th>\n",
       "      <th>Rating Count</th>\n",
       "      <th>Installs</th>\n",
       "      <th>Minimum Installs</th>\n",
       "      <th>Maximum Installs</th>\n",
       "      <th>Free</th>\n",
       "      <th>Price</th>\n",
       "      <th>...</th>\n",
       "      <th>Developer Website</th>\n",
       "      <th>Developer Email</th>\n",
       "      <th>Released</th>\n",
       "      <th>Last Updated</th>\n",
       "      <th>Content Rating</th>\n",
       "      <th>Privacy Policy</th>\n",
       "      <th>Ad Supported</th>\n",
       "      <th>In App Purchases</th>\n",
       "      <th>Editors Choice</th>\n",
       "      <th>Scraped Time</th>\n",
       "    </tr>\n",
       "  </thead>\n",
       "  <tbody>\n",
       "    <tr>\n",
       "      <th>0</th>\n",
       "      <td>Gakondo</td>\n",
       "      <td>com.ishakwe.gakondo</td>\n",
       "      <td>Adventure</td>\n",
       "      <td>0.0</td>\n",
       "      <td>0.0</td>\n",
       "      <td>10+</td>\n",
       "      <td>10.0</td>\n",
       "      <td>15</td>\n",
       "      <td>True</td>\n",
       "      <td>0.0</td>\n",
       "      <td>...</td>\n",
       "      <td>https://beniyizibyose.tk/#/</td>\n",
       "      <td>jean21101999@gmail.com</td>\n",
       "      <td>Feb 26, 2020</td>\n",
       "      <td>Feb 26, 2020</td>\n",
       "      <td>Everyone</td>\n",
       "      <td>https://beniyizibyose.tk/projects/</td>\n",
       "      <td>False</td>\n",
       "      <td>False</td>\n",
       "      <td>False</td>\n",
       "      <td>2021-06-15 20:19:35</td>\n",
       "    </tr>\n",
       "    <tr>\n",
       "      <th>1</th>\n",
       "      <td>Ampere Battery Info</td>\n",
       "      <td>com.webserveis.batteryinfo</td>\n",
       "      <td>Tools</td>\n",
       "      <td>4.4</td>\n",
       "      <td>64.0</td>\n",
       "      <td>5,000+</td>\n",
       "      <td>5000.0</td>\n",
       "      <td>7662</td>\n",
       "      <td>True</td>\n",
       "      <td>0.0</td>\n",
       "      <td>...</td>\n",
       "      <td>https://webserveis.netlify.app/</td>\n",
       "      <td>webserveis@gmail.com</td>\n",
       "      <td>May 21, 2020</td>\n",
       "      <td>May 06, 2021</td>\n",
       "      <td>Everyone</td>\n",
       "      <td>https://dev4phones.wordpress.com/licencia-de-uso/</td>\n",
       "      <td>True</td>\n",
       "      <td>False</td>\n",
       "      <td>False</td>\n",
       "      <td>2021-06-15 20:19:35</td>\n",
       "    </tr>\n",
       "    <tr>\n",
       "      <th>2</th>\n",
       "      <td>Vibook</td>\n",
       "      <td>com.doantiepvien.crm</td>\n",
       "      <td>Productivity</td>\n",
       "      <td>0.0</td>\n",
       "      <td>0.0</td>\n",
       "      <td>50+</td>\n",
       "      <td>50.0</td>\n",
       "      <td>58</td>\n",
       "      <td>True</td>\n",
       "      <td>0.0</td>\n",
       "      <td>...</td>\n",
       "      <td>NaN</td>\n",
       "      <td>vnacrewit@gmail.com</td>\n",
       "      <td>Aug 9, 2019</td>\n",
       "      <td>Aug 19, 2019</td>\n",
       "      <td>Everyone</td>\n",
       "      <td>https://www.vietnamairlines.com/vn/en/terms-an...</td>\n",
       "      <td>False</td>\n",
       "      <td>False</td>\n",
       "      <td>False</td>\n",
       "      <td>2021-06-15 20:19:35</td>\n",
       "    </tr>\n",
       "    <tr>\n",
       "      <th>3</th>\n",
       "      <td>Smart City Trichy Public Service Vehicles 17UC...</td>\n",
       "      <td>cst.stJoseph.ug17ucs548</td>\n",
       "      <td>Communication</td>\n",
       "      <td>5.0</td>\n",
       "      <td>5.0</td>\n",
       "      <td>10+</td>\n",
       "      <td>10.0</td>\n",
       "      <td>19</td>\n",
       "      <td>True</td>\n",
       "      <td>0.0</td>\n",
       "      <td>...</td>\n",
       "      <td>http://www.climatesmarttech.com/</td>\n",
       "      <td>climatesmarttech2@gmail.com</td>\n",
       "      <td>Sep 10, 2018</td>\n",
       "      <td>Oct 13, 2018</td>\n",
       "      <td>Everyone</td>\n",
       "      <td>NaN</td>\n",
       "      <td>True</td>\n",
       "      <td>False</td>\n",
       "      <td>False</td>\n",
       "      <td>2021-06-15 20:19:35</td>\n",
       "    </tr>\n",
       "    <tr>\n",
       "      <th>4</th>\n",
       "      <td>GROW.me</td>\n",
       "      <td>com.horodyski.grower</td>\n",
       "      <td>Tools</td>\n",
       "      <td>0.0</td>\n",
       "      <td>0.0</td>\n",
       "      <td>100+</td>\n",
       "      <td>100.0</td>\n",
       "      <td>478</td>\n",
       "      <td>True</td>\n",
       "      <td>0.0</td>\n",
       "      <td>...</td>\n",
       "      <td>http://www.horodyski.com.pl</td>\n",
       "      <td>rmilekhorodyski@gmail.com</td>\n",
       "      <td>Feb 21, 2020</td>\n",
       "      <td>Nov 12, 2018</td>\n",
       "      <td>Everyone</td>\n",
       "      <td>http://www.horodyski.com.pl</td>\n",
       "      <td>False</td>\n",
       "      <td>False</td>\n",
       "      <td>False</td>\n",
       "      <td>2021-06-15 20:19:35</td>\n",
       "    </tr>\n",
       "    <tr>\n",
       "      <th>...</th>\n",
       "      <td>...</td>\n",
       "      <td>...</td>\n",
       "      <td>...</td>\n",
       "      <td>...</td>\n",
       "      <td>...</td>\n",
       "      <td>...</td>\n",
       "      <td>...</td>\n",
       "      <td>...</td>\n",
       "      <td>...</td>\n",
       "      <td>...</td>\n",
       "      <td>...</td>\n",
       "      <td>...</td>\n",
       "      <td>...</td>\n",
       "      <td>...</td>\n",
       "      <td>...</td>\n",
       "      <td>...</td>\n",
       "      <td>...</td>\n",
       "      <td>...</td>\n",
       "      <td>...</td>\n",
       "      <td>...</td>\n",
       "      <td>...</td>\n",
       "    </tr>\n",
       "    <tr>\n",
       "      <th>2312939</th>\n",
       "      <td>大俠客—熱血歸來</td>\n",
       "      <td>com.rxsj.ssjj</td>\n",
       "      <td>Role Playing</td>\n",
       "      <td>4.3</td>\n",
       "      <td>16775.0</td>\n",
       "      <td>100,000+</td>\n",
       "      <td>100000.0</td>\n",
       "      <td>337109</td>\n",
       "      <td>True</td>\n",
       "      <td>0.0</td>\n",
       "      <td>...</td>\n",
       "      <td>http://www.4399sy.com.hk/</td>\n",
       "      <td>ssjjcomhk@gmail.com</td>\n",
       "      <td>NaN</td>\n",
       "      <td>Jun 01, 2021</td>\n",
       "      <td>Teen</td>\n",
       "      <td>http://a.4399sy.com.hk/user/aggreement</td>\n",
       "      <td>False</td>\n",
       "      <td>False</td>\n",
       "      <td>False</td>\n",
       "      <td>2021-06-16 12:59:18</td>\n",
       "    </tr>\n",
       "    <tr>\n",
       "      <th>2312940</th>\n",
       "      <td>ORU Online</td>\n",
       "      <td>com.threedream.oruonline</td>\n",
       "      <td>Education</td>\n",
       "      <td>0.0</td>\n",
       "      <td>0.0</td>\n",
       "      <td>100+</td>\n",
       "      <td>100.0</td>\n",
       "      <td>430</td>\n",
       "      <td>True</td>\n",
       "      <td>0.0</td>\n",
       "      <td>...</td>\n",
       "      <td>http://www.oru.edu/</td>\n",
       "      <td>3DreamDeveloper@gmail.com</td>\n",
       "      <td>Jan 17, 2018</td>\n",
       "      <td>Feb 02, 2018</td>\n",
       "      <td>Everyone</td>\n",
       "      <td>http://www.oru.edu/about-oru/privacy-policy.php</td>\n",
       "      <td>False</td>\n",
       "      <td>False</td>\n",
       "      <td>False</td>\n",
       "      <td>2021-06-16 12:59:19</td>\n",
       "    </tr>\n",
       "    <tr>\n",
       "      <th>2312941</th>\n",
       "      <td>Data Structure</td>\n",
       "      <td>datastructure.appoworld.datastucture</td>\n",
       "      <td>Education</td>\n",
       "      <td>0.0</td>\n",
       "      <td>0.0</td>\n",
       "      <td>100+</td>\n",
       "      <td>100.0</td>\n",
       "      <td>202</td>\n",
       "      <td>True</td>\n",
       "      <td>0.0</td>\n",
       "      <td>...</td>\n",
       "      <td>NaN</td>\n",
       "      <td>appoworld.official@gmail.com</td>\n",
       "      <td>Aug 19, 2018</td>\n",
       "      <td>Aug 19, 2018</td>\n",
       "      <td>Everyone</td>\n",
       "      <td>https://appoworld.000webhostapp.com/datastruct...</td>\n",
       "      <td>False</td>\n",
       "      <td>False</td>\n",
       "      <td>False</td>\n",
       "      <td>2021-06-16 12:59:19</td>\n",
       "    </tr>\n",
       "    <tr>\n",
       "      <th>2312942</th>\n",
       "      <td>Devi Suktam</td>\n",
       "      <td>ishan.devi.suktam</td>\n",
       "      <td>Music &amp; Audio</td>\n",
       "      <td>3.5</td>\n",
       "      <td>8.0</td>\n",
       "      <td>1,000+</td>\n",
       "      <td>1000.0</td>\n",
       "      <td>2635</td>\n",
       "      <td>True</td>\n",
       "      <td>0.0</td>\n",
       "      <td>...</td>\n",
       "      <td>https://a70f78905.app-ads-txt.com</td>\n",
       "      <td>ruchisono@gmail.com</td>\n",
       "      <td>Aug 1, 2016</td>\n",
       "      <td>May 05, 2021</td>\n",
       "      <td>Everyone</td>\n",
       "      <td>https://docs.google.com/document/d/1x-9reZuLRX...</td>\n",
       "      <td>True</td>\n",
       "      <td>False</td>\n",
       "      <td>False</td>\n",
       "      <td>2021-06-16 12:59:19</td>\n",
       "    </tr>\n",
       "    <tr>\n",
       "      <th>2312943</th>\n",
       "      <td>Biliyor Musun - Sonsuz Yarış</td>\n",
       "      <td>com.yyazilim.biliyormusun</td>\n",
       "      <td>Trivia</td>\n",
       "      <td>5.0</td>\n",
       "      <td>12.0</td>\n",
       "      <td>100+</td>\n",
       "      <td>100.0</td>\n",
       "      <td>354</td>\n",
       "      <td>True</td>\n",
       "      <td>0.0</td>\n",
       "      <td>...</td>\n",
       "      <td>NaN</td>\n",
       "      <td>yyazilimdevelop@gmail.com</td>\n",
       "      <td>Aug 9, 2019</td>\n",
       "      <td>Aug 19, 2019</td>\n",
       "      <td>Everyone</td>\n",
       "      <td>https://biliyor-musun-sons.flycricket.io/priva...</td>\n",
       "      <td>True</td>\n",
       "      <td>False</td>\n",
       "      <td>False</td>\n",
       "      <td>2021-06-16 12:59:19</td>\n",
       "    </tr>\n",
       "  </tbody>\n",
       "</table>\n",
       "<p>2312944 rows × 24 columns</p>\n",
       "</div>"
      ],
      "text/plain": [
       "                                                  App Name  \\\n",
       "0                                                  Gakondo   \n",
       "1                                      Ampere Battery Info   \n",
       "2                                                   Vibook   \n",
       "3        Smart City Trichy Public Service Vehicles 17UC...   \n",
       "4                                                  GROW.me   \n",
       "...                                                    ...   \n",
       "2312939                                           大俠客—熱血歸來   \n",
       "2312940                                         ORU Online   \n",
       "2312941                                     Data Structure   \n",
       "2312942                                        Devi Suktam   \n",
       "2312943                       Biliyor Musun - Sonsuz Yarış   \n",
       "\n",
       "                                       App Id       Category  Rating  \\\n",
       "0                         com.ishakwe.gakondo      Adventure     0.0   \n",
       "1                  com.webserveis.batteryinfo          Tools     4.4   \n",
       "2                        com.doantiepvien.crm   Productivity     0.0   \n",
       "3                     cst.stJoseph.ug17ucs548  Communication     5.0   \n",
       "4                        com.horodyski.grower          Tools     0.0   \n",
       "...                                       ...            ...     ...   \n",
       "2312939                         com.rxsj.ssjj   Role Playing     4.3   \n",
       "2312940              com.threedream.oruonline      Education     0.0   \n",
       "2312941  datastructure.appoworld.datastucture      Education     0.0   \n",
       "2312942                     ishan.devi.suktam  Music & Audio     3.5   \n",
       "2312943             com.yyazilim.biliyormusun         Trivia     5.0   \n",
       "\n",
       "         Rating Count  Installs  Minimum Installs  Maximum Installs  Free  \\\n",
       "0                 0.0       10+              10.0                15  True   \n",
       "1                64.0    5,000+            5000.0              7662  True   \n",
       "2                 0.0       50+              50.0                58  True   \n",
       "3                 5.0       10+              10.0                19  True   \n",
       "4                 0.0      100+             100.0               478  True   \n",
       "...               ...       ...               ...               ...   ...   \n",
       "2312939       16775.0  100,000+          100000.0            337109  True   \n",
       "2312940           0.0      100+             100.0               430  True   \n",
       "2312941           0.0      100+             100.0               202  True   \n",
       "2312942           8.0    1,000+            1000.0              2635  True   \n",
       "2312943          12.0      100+             100.0               354  True   \n",
       "\n",
       "         Price  ...                  Developer Website  \\\n",
       "0          0.0  ...        https://beniyizibyose.tk/#/   \n",
       "1          0.0  ...    https://webserveis.netlify.app/   \n",
       "2          0.0  ...                                NaN   \n",
       "3          0.0  ...   http://www.climatesmarttech.com/   \n",
       "4          0.0  ...        http://www.horodyski.com.pl   \n",
       "...        ...  ...                                ...   \n",
       "2312939    0.0  ...          http://www.4399sy.com.hk/   \n",
       "2312940    0.0  ...                http://www.oru.edu/   \n",
       "2312941    0.0  ...                                NaN   \n",
       "2312942    0.0  ...  https://a70f78905.app-ads-txt.com   \n",
       "2312943    0.0  ...                                NaN   \n",
       "\n",
       "                      Developer Email      Released  Last Updated  \\\n",
       "0              jean21101999@gmail.com  Feb 26, 2020  Feb 26, 2020   \n",
       "1                webserveis@gmail.com  May 21, 2020  May 06, 2021   \n",
       "2                 vnacrewit@gmail.com   Aug 9, 2019  Aug 19, 2019   \n",
       "3         climatesmarttech2@gmail.com  Sep 10, 2018  Oct 13, 2018   \n",
       "4           rmilekhorodyski@gmail.com  Feb 21, 2020  Nov 12, 2018   \n",
       "...                               ...           ...           ...   \n",
       "2312939           ssjjcomhk@gmail.com           NaN  Jun 01, 2021   \n",
       "2312940     3DreamDeveloper@gmail.com  Jan 17, 2018  Feb 02, 2018   \n",
       "2312941  appoworld.official@gmail.com  Aug 19, 2018  Aug 19, 2018   \n",
       "2312942           ruchisono@gmail.com   Aug 1, 2016  May 05, 2021   \n",
       "2312943     yyazilimdevelop@gmail.com   Aug 9, 2019  Aug 19, 2019   \n",
       "\n",
       "        Content Rating                                     Privacy Policy  \\\n",
       "0             Everyone                 https://beniyizibyose.tk/projects/   \n",
       "1             Everyone  https://dev4phones.wordpress.com/licencia-de-uso/   \n",
       "2             Everyone  https://www.vietnamairlines.com/vn/en/terms-an...   \n",
       "3             Everyone                                                NaN   \n",
       "4             Everyone                        http://www.horodyski.com.pl   \n",
       "...                ...                                                ...   \n",
       "2312939           Teen             http://a.4399sy.com.hk/user/aggreement   \n",
       "2312940       Everyone    http://www.oru.edu/about-oru/privacy-policy.php   \n",
       "2312941       Everyone  https://appoworld.000webhostapp.com/datastruct...   \n",
       "2312942       Everyone  https://docs.google.com/document/d/1x-9reZuLRX...   \n",
       "2312943       Everyone  https://biliyor-musun-sons.flycricket.io/priva...   \n",
       "\n",
       "        Ad Supported In App Purchases Editors Choice         Scraped Time  \n",
       "0              False            False          False  2021-06-15 20:19:35  \n",
       "1               True            False          False  2021-06-15 20:19:35  \n",
       "2              False            False          False  2021-06-15 20:19:35  \n",
       "3               True            False          False  2021-06-15 20:19:35  \n",
       "4              False            False          False  2021-06-15 20:19:35  \n",
       "...              ...              ...            ...                  ...  \n",
       "2312939        False            False          False  2021-06-16 12:59:18  \n",
       "2312940        False            False          False  2021-06-16 12:59:19  \n",
       "2312941        False            False          False  2021-06-16 12:59:19  \n",
       "2312942         True            False          False  2021-06-16 12:59:19  \n",
       "2312943         True            False          False  2021-06-16 12:59:19  \n",
       "\n",
       "[2312944 rows x 24 columns]"
      ]
     },
     "execution_count": 3,
     "metadata": {},
     "output_type": "execute_result"
    }
   ],
   "source": [
    "android_data"
   ]
  },
  {
   "cell_type": "code",
   "execution_count": 3,
   "metadata": {},
   "outputs": [
    {
     "data": {
      "text/plain": [
       "(1230376, 21)"
      ]
     },
     "execution_count": 3,
     "metadata": {},
     "output_type": "execute_result"
    }
   ],
   "source": [
    "ios_data = pd.read_csv('./data/appleAppData.csv')\n",
    "ios_data.shape "
   ]
  },
  {
   "cell_type": "markdown",
   "metadata": {},
   "source": [
    "## Data Wrangling"
   ]
  },
  {
   "cell_type": "markdown",
   "metadata": {},
   "source": [
    "### Rename columns"
   ]
  },
  {
   "cell_type": "code",
   "execution_count": 4,
   "metadata": {},
   "outputs": [],
   "source": [
    "def rename_columns(data):\n",
    "    data.rename(lambda x: x.lower().strip().replace(' ', '_'), \n",
    "            axis='columns', inplace=True)"
   ]
  },
  {
   "cell_type": "code",
   "execution_count": 5,
   "metadata": {},
   "outputs": [
    {
     "data": {
      "text/plain": [
       "Index(['app_name', 'app_id', 'category', 'rating', 'rating_count', 'installs',\n",
       "       'minimum_installs', 'maximum_installs', 'free', 'price', 'currency',\n",
       "       'size', 'minimum_android', 'developer_id', 'developer_website',\n",
       "       'developer_email', 'released', 'last_updated', 'content_rating',\n",
       "       'privacy_policy', 'ad_supported', 'in_app_purchases', 'editors_choice',\n",
       "       'scraped_time'],\n",
       "      dtype='object')"
      ]
     },
     "execution_count": 5,
     "metadata": {},
     "output_type": "execute_result"
    }
   ],
   "source": [
    "rename_columns(android_data)\n",
    "android_data.columns"
   ]
  },
  {
   "cell_type": "code",
   "execution_count": 6,
   "metadata": {},
   "outputs": [
    {
     "data": {
      "text/plain": [
       "Index(['app_id', 'app_name', 'appstore_url', 'primary_genre', 'content_rating',\n",
       "       'size_bytes', 'required_ios_version', 'released', 'updated', 'version',\n",
       "       'price', 'currency', 'free', 'developerid', 'developer',\n",
       "       'developer_url', 'developer_website', 'average_user_rating', 'reviews',\n",
       "       'current_version_score', 'current_version_reviews'],\n",
       "      dtype='object')"
      ]
     },
     "execution_count": 6,
     "metadata": {},
     "output_type": "execute_result"
    }
   ],
   "source": [
    "rename_columns(ios_data)\n",
    "ios_data.columns"
   ]
  },
  {
   "cell_type": "markdown",
   "metadata": {},
   "source": [
    "### Drop unnecessary columns"
   ]
  },
  {
   "cell_type": "code",
   "execution_count": 7,
   "metadata": {},
   "outputs": [
    {
     "data": {
      "text/html": [
       "<div>\n",
       "<style scoped>\n",
       "    .dataframe tbody tr th:only-of-type {\n",
       "        vertical-align: middle;\n",
       "    }\n",
       "\n",
       "    .dataframe tbody tr th {\n",
       "        vertical-align: top;\n",
       "    }\n",
       "\n",
       "    .dataframe thead th {\n",
       "        text-align: right;\n",
       "    }\n",
       "</style>\n",
       "<table border=\"1\" class=\"dataframe\">\n",
       "  <thead>\n",
       "    <tr style=\"text-align: right;\">\n",
       "      <th></th>\n",
       "      <th>app_name</th>\n",
       "      <th>category</th>\n",
       "      <th>rating</th>\n",
       "      <th>rating_count</th>\n",
       "      <th>installs</th>\n",
       "      <th>free</th>\n",
       "      <th>price</th>\n",
       "      <th>currency</th>\n",
       "      <th>ad_supported</th>\n",
       "      <th>in_app_purchases</th>\n",
       "    </tr>\n",
       "  </thead>\n",
       "  <tbody>\n",
       "    <tr>\n",
       "      <th>0</th>\n",
       "      <td>Gakondo</td>\n",
       "      <td>Adventure</td>\n",
       "      <td>0.0</td>\n",
       "      <td>0.0</td>\n",
       "      <td>10+</td>\n",
       "      <td>True</td>\n",
       "      <td>0.0</td>\n",
       "      <td>USD</td>\n",
       "      <td>False</td>\n",
       "      <td>False</td>\n",
       "    </tr>\n",
       "    <tr>\n",
       "      <th>1</th>\n",
       "      <td>Ampere Battery Info</td>\n",
       "      <td>Tools</td>\n",
       "      <td>4.4</td>\n",
       "      <td>64.0</td>\n",
       "      <td>5,000+</td>\n",
       "      <td>True</td>\n",
       "      <td>0.0</td>\n",
       "      <td>USD</td>\n",
       "      <td>True</td>\n",
       "      <td>False</td>\n",
       "    </tr>\n",
       "    <tr>\n",
       "      <th>2</th>\n",
       "      <td>Vibook</td>\n",
       "      <td>Productivity</td>\n",
       "      <td>0.0</td>\n",
       "      <td>0.0</td>\n",
       "      <td>50+</td>\n",
       "      <td>True</td>\n",
       "      <td>0.0</td>\n",
       "      <td>USD</td>\n",
       "      <td>False</td>\n",
       "      <td>False</td>\n",
       "    </tr>\n",
       "    <tr>\n",
       "      <th>3</th>\n",
       "      <td>Smart City Trichy Public Service Vehicles 17UC...</td>\n",
       "      <td>Communication</td>\n",
       "      <td>5.0</td>\n",
       "      <td>5.0</td>\n",
       "      <td>10+</td>\n",
       "      <td>True</td>\n",
       "      <td>0.0</td>\n",
       "      <td>USD</td>\n",
       "      <td>True</td>\n",
       "      <td>False</td>\n",
       "    </tr>\n",
       "    <tr>\n",
       "      <th>4</th>\n",
       "      <td>GROW.me</td>\n",
       "      <td>Tools</td>\n",
       "      <td>0.0</td>\n",
       "      <td>0.0</td>\n",
       "      <td>100+</td>\n",
       "      <td>True</td>\n",
       "      <td>0.0</td>\n",
       "      <td>USD</td>\n",
       "      <td>False</td>\n",
       "      <td>False</td>\n",
       "    </tr>\n",
       "  </tbody>\n",
       "</table>\n",
       "</div>"
      ],
      "text/plain": [
       "                                            app_name       category  rating  \\\n",
       "0                                            Gakondo      Adventure     0.0   \n",
       "1                                Ampere Battery Info          Tools     4.4   \n",
       "2                                             Vibook   Productivity     0.0   \n",
       "3  Smart City Trichy Public Service Vehicles 17UC...  Communication     5.0   \n",
       "4                                            GROW.me          Tools     0.0   \n",
       "\n",
       "   rating_count installs  free  price currency  ad_supported  in_app_purchases  \n",
       "0           0.0      10+  True    0.0      USD         False             False  \n",
       "1          64.0   5,000+  True    0.0      USD          True             False  \n",
       "2           0.0      50+  True    0.0      USD         False             False  \n",
       "3           5.0      10+  True    0.0      USD          True             False  \n",
       "4           0.0     100+  True    0.0      USD         False             False  "
      ]
     },
     "execution_count": 7,
     "metadata": {},
     "output_type": "execute_result"
    }
   ],
   "source": [
    "android_columns_to_drop = [\n",
    "    'app_id', 'minimum_installs', 'maximum_installs', 'size', 'minimum_android', 'developer_id', 'developer_website', 'developer_email', \n",
    "    'released', 'last_updated', 'content_rating', 'privacy_policy', 'editors_choice', 'scraped_time'\n",
    "]\n",
    "android_data.drop(android_columns_to_drop, axis='columns', inplace=True)\n",
    "android_data.head()"
   ]
  },
  {
   "cell_type": "code",
   "execution_count": 8,
   "metadata": {},
   "outputs": [
    {
     "data": {
      "text/html": [
       "<div>\n",
       "<style scoped>\n",
       "    .dataframe tbody tr th:only-of-type {\n",
       "        vertical-align: middle;\n",
       "    }\n",
       "\n",
       "    .dataframe tbody tr th {\n",
       "        vertical-align: top;\n",
       "    }\n",
       "\n",
       "    .dataframe thead th {\n",
       "        text-align: right;\n",
       "    }\n",
       "</style>\n",
       "<table border=\"1\" class=\"dataframe\">\n",
       "  <thead>\n",
       "    <tr style=\"text-align: right;\">\n",
       "      <th></th>\n",
       "      <th>app_name</th>\n",
       "      <th>primary_genre</th>\n",
       "      <th>price</th>\n",
       "      <th>currency</th>\n",
       "      <th>free</th>\n",
       "      <th>average_user_rating</th>\n",
       "      <th>reviews</th>\n",
       "    </tr>\n",
       "  </thead>\n",
       "  <tbody>\n",
       "    <tr>\n",
       "      <th>0</th>\n",
       "      <td>A+ Paper Guide</td>\n",
       "      <td>Education</td>\n",
       "      <td>0.00</td>\n",
       "      <td>USD</td>\n",
       "      <td>True</td>\n",
       "      <td>0.0</td>\n",
       "      <td>0</td>\n",
       "    </tr>\n",
       "    <tr>\n",
       "      <th>1</th>\n",
       "      <td>A-Books</td>\n",
       "      <td>Book</td>\n",
       "      <td>0.00</td>\n",
       "      <td>USD</td>\n",
       "      <td>True</td>\n",
       "      <td>5.0</td>\n",
       "      <td>1</td>\n",
       "    </tr>\n",
       "    <tr>\n",
       "      <th>2</th>\n",
       "      <td>A-books</td>\n",
       "      <td>Book</td>\n",
       "      <td>0.00</td>\n",
       "      <td>USD</td>\n",
       "      <td>True</td>\n",
       "      <td>0.0</td>\n",
       "      <td>0</td>\n",
       "    </tr>\n",
       "    <tr>\n",
       "      <th>3</th>\n",
       "      <td>A-F Book #1</td>\n",
       "      <td>Book</td>\n",
       "      <td>2.99</td>\n",
       "      <td>USD</td>\n",
       "      <td>False</td>\n",
       "      <td>0.0</td>\n",
       "      <td>0</td>\n",
       "    </tr>\n",
       "    <tr>\n",
       "      <th>4</th>\n",
       "      <td>A-Z Synonyms Dictionary</td>\n",
       "      <td>Reference</td>\n",
       "      <td>0.00</td>\n",
       "      <td>USD</td>\n",
       "      <td>True</td>\n",
       "      <td>0.0</td>\n",
       "      <td>0</td>\n",
       "    </tr>\n",
       "  </tbody>\n",
       "</table>\n",
       "</div>"
      ],
      "text/plain": [
       "                  app_name primary_genre  price currency   free  \\\n",
       "0           A+ Paper Guide     Education   0.00      USD   True   \n",
       "1                  A-Books          Book   0.00      USD   True   \n",
       "2                  A-books          Book   0.00      USD   True   \n",
       "3              A-F Book #1          Book   2.99      USD  False   \n",
       "4  A-Z Synonyms Dictionary     Reference   0.00      USD   True   \n",
       "\n",
       "   average_user_rating  reviews  \n",
       "0                  0.0        0  \n",
       "1                  5.0        1  \n",
       "2                  0.0        0  \n",
       "3                  0.0        0  \n",
       "4                  0.0        0  "
      ]
     },
     "execution_count": 8,
     "metadata": {},
     "output_type": "execute_result"
    }
   ],
   "source": [
    "ios_columns_to_drop = [\n",
    "    'app_id', 'appstore_url', 'size_bytes', 'required_ios_version', 'released', 'updated', 'version', 'developerid', 'developer',\n",
    "    'developer_url', 'developer_website', 'current_version_score', 'current_version_reviews', 'content_rating'\n",
    "]\n",
    "\n",
    "ios_data.drop(ios_columns_to_drop, axis='columns', inplace=True)\n",
    "ios_data.head()"
   ]
  },
  {
   "cell_type": "markdown",
   "metadata": {},
   "source": [
    "### Subset only for the top 10 categories"
   ]
  },
  {
   "cell_type": "code",
   "execution_count": 9,
   "metadata": {},
   "outputs": [],
   "source": [
    "def get_top_categories(data, n_top, category_label):\n",
    "    value_counts = data[category_label].value_counts()\n",
    "    df_value_counts = pd.DataFrame(value_counts).reset_index()\n",
    "    df_value_counts.columns = ['category', 'count']\n",
    "    top_list = df_value_counts.category[:n_top].tolist()\n",
    "    return data[data[category_label].isin(top_list)].reset_index(drop=True)"
   ]
  },
  {
   "cell_type": "code",
   "execution_count": 10,
   "metadata": {},
   "outputs": [
    {
     "data": {
      "text/plain": [
       "(1309508, 10)"
      ]
     },
     "execution_count": 10,
     "metadata": {},
     "output_type": "execute_result"
    }
   ],
   "source": [
    "top_android = get_top_categories(data=android_data, n_top=10, category_label='category')\n",
    "top_android.shape"
   ]
  },
  {
   "cell_type": "code",
   "execution_count": 11,
   "metadata": {},
   "outputs": [
    {
     "data": {
      "text/plain": [
       "(915787, 7)"
      ]
     },
     "execution_count": 11,
     "metadata": {},
     "output_type": "execute_result"
    }
   ],
   "source": [
    "top_ios = get_top_categories(data=ios_data, n_top=10, category_label='primary_genre')\n",
    "top_ios.shape"
   ]
  },
  {
   "cell_type": "markdown",
   "metadata": {},
   "source": [
    "## Exploration"
   ]
  },
  {
   "cell_type": "markdown",
   "metadata": {},
   "source": [
    "### Basic Exploration"
   ]
  },
  {
   "cell_type": "code",
   "execution_count": 12,
   "metadata": {},
   "outputs": [
    {
     "name": "stdout",
     "output_type": "stream",
     "text": [
      "<class 'pandas.core.frame.DataFrame'>\n",
      "RangeIndex: 2312944 entries, 0 to 2312943\n",
      "Data columns (total 10 columns):\n",
      " #   Column            Dtype  \n",
      "---  ------            -----  \n",
      " 0   app_name          object \n",
      " 1   category          object \n",
      " 2   rating            float64\n",
      " 3   rating_count      float64\n",
      " 4   installs          object \n",
      " 5   free              bool   \n",
      " 6   price             float64\n",
      " 7   currency          object \n",
      " 8   ad_supported      bool   \n",
      " 9   in_app_purchases  bool   \n",
      "dtypes: bool(3), float64(3), object(4)\n",
      "memory usage: 130.1+ MB\n"
     ]
    }
   ],
   "source": [
    "android_data.info()"
   ]
  },
  {
   "cell_type": "code",
   "execution_count": 13,
   "metadata": {},
   "outputs": [
    {
     "name": "stdout",
     "output_type": "stream",
     "text": [
      "<class 'pandas.core.frame.DataFrame'>\n",
      "RangeIndex: 1230376 entries, 0 to 1230375\n",
      "Data columns (total 7 columns):\n",
      " #   Column               Non-Null Count    Dtype  \n",
      "---  ------               --------------    -----  \n",
      " 0   app_name             1230375 non-null  object \n",
      " 1   primary_genre        1230376 non-null  object \n",
      " 2   price                1229886 non-null  float64\n",
      " 3   currency             1230376 non-null  object \n",
      " 4   free                 1230376 non-null  bool   \n",
      " 5   average_user_rating  1230376 non-null  float64\n",
      " 6   reviews              1230376 non-null  int64  \n",
      "dtypes: bool(1), float64(2), int64(1), object(3)\n",
      "memory usage: 57.5+ MB\n"
     ]
    }
   ],
   "source": [
    "ios_data.info()"
   ]
  },
  {
   "cell_type": "code",
   "execution_count": 14,
   "metadata": {},
   "outputs": [
    {
     "name": "stdout",
     "output_type": "stream",
     "text": [
      "              rating     rating_count          price\n",
      "count 2290061.000000   2290061.000000 2312944.000000\n",
      "mean        2.203152      2864.838877       0.103499\n",
      "std         2.106223    212162.571037       2.633127\n",
      "min         0.000000         0.000000       0.000000\n",
      "25%         0.000000         0.000000       0.000000\n",
      "50%         2.900000         6.000000       0.000000\n",
      "75%         4.300000        42.000000       0.000000\n",
      "max         5.000000 138557570.000000     400.000000\n"
     ]
    }
   ],
   "source": [
    "with pd.option_context('float_format', '{:f}'.format):\n",
    "    print(android_data.describe())"
   ]
  },
  {
   "cell_type": "code",
   "execution_count": 15,
   "metadata": {},
   "outputs": [
    {
     "name": "stdout",
     "output_type": "stream",
     "text": [
      "               price  average_user_rating         reviews\n",
      "count 1229886.000000       1230376.000000  1230376.000000\n",
      "mean        0.504126             1.788387      825.947792\n",
      "std         6.869674             2.154105    50160.512897\n",
      "min         0.000000             0.000000        0.000000\n",
      "25%         0.000000             0.000000        0.000000\n",
      "50%         0.000000             0.000000        0.000000\n",
      "75%         0.000000             4.333330        3.000000\n",
      "max       999.990000             5.000000 22685334.000000\n"
     ]
    }
   ],
   "source": [
    "with pd.option_context('float_format', '{:f}'.format):\n",
    "    print(ios_data.describe())"
   ]
  },
  {
   "cell_type": "markdown",
   "metadata": {},
   "source": [
    "The mean price is not representative because there are too free apps. For get the real mean price is better use only paid apps."
   ]
  },
  {
   "cell_type": "markdown",
   "metadata": {},
   "source": [
    "### App Ratings"
   ]
  },
  {
   "cell_type": "code",
   "execution_count": 16,
   "metadata": {},
   "outputs": [],
   "source": [
    "def hist_ratings(data, title):\n",
    "    _, axis = plt.subplots()\n",
    "\n",
    "    # Plot a histogram\n",
    "    axis.hist(data, bins=20)\n",
    "    # Label\n",
    "    axis.set(title=title,\n",
    "        xlabel='Rating out of 5.0',\n",
    "        ylabel='Count')\n",
    "    plt.show();"
   ]
  },
  {
   "cell_type": "code",
   "execution_count": 17,
   "metadata": {},
   "outputs": [
    {
     "data": {
      "image/png": "[encoded data removed]",
      "text/plain": [
       "<Figure size 432x288 with 1 Axes>"
      ]
     },
     "metadata": {
      "needs_background": "light"
     },
     "output_type": "display_data"
    }
   ],
   "source": [
    "hist_ratings(data=android_data['rating'], title='Android app ratings')"
   ]
  },
  {
   "cell_type": "code",
   "execution_count": 18,
   "metadata": {},
   "outputs": [
    {
     "data": {
      "image/png": "[encoded data removed]",
      "text/plain": [
       "<Figure size 432x288 with 1 Axes>"
      ]
     },
     "metadata": {
      "needs_background": "light"
     },
     "output_type": "display_data"
    }
   ],
   "source": [
    "hist_ratings(data=ios_data['average_user_rating'], title='Ios app ratings')"
   ]
  },
  {
   "cell_type": "code",
   "execution_count": 19,
   "metadata": {},
   "outputs": [],
   "source": [
    "def hist_ratings_over_0(dataset, rating_label, title):\n",
    "    _, axis = plt.subplots()\n",
    "\n",
    "    # Subset for ratings over 0\n",
    "    over_0 = dataset[dataset[rating_label] > 0][rating_label]\n",
    "\n",
    "    # Plot a histogram\n",
    "    axis.hist(over_0, bins=15)\n",
    "    # Label\n",
    "    axis.set(title=title,\n",
    "        xlabel='Rating out of 5.0',\n",
    "        ylabel='Count')\n",
    "    plt.show();"
   ]
  },
  {
   "cell_type": "code",
   "execution_count": 20,
   "metadata": {},
   "outputs": [
    {
     "data": {
      "image/png": "[encoded data removed]",
      "text/plain": [
       "<Figure size 432x288 with 1 Axes>"
      ]
     },
     "metadata": {
      "needs_background": "light"
     },
     "output_type": "display_data"
    }
   ],
   "source": [
    "hist_ratings_over_0(dataset=android_data,rating_label='rating', title='Android app ratings over 0')"
   ]
  },
  {
   "cell_type": "code",
   "execution_count": 21,
   "metadata": {},
   "outputs": [
    {
     "data": {
      "image/png": "[encoded data removed]",
      "text/plain": [
       "<Figure size 432x288 with 1 Axes>"
      ]
     },
     "metadata": {
      "needs_background": "light"
     },
     "output_type": "display_data"
    }
   ],
   "source": [
    "hist_ratings_over_0(dataset=ios_data,rating_label='average_user_rating', title='Ios app ratings over 0')"
   ]
  },
  {
   "cell_type": "markdown",
   "metadata": {},
   "source": [
    "### Categories"
   ]
  },
  {
   "cell_type": "code",
   "execution_count": 22,
   "metadata": {},
   "outputs": [],
   "source": [
    "def bar_categories(data, title):\n",
    "    _, axis = plt.subplots()\n",
    "\n",
    "    # Plot a normalized countplot\n",
    "    data.value_counts(normalize=True).plot.barh()\n",
    "    # Label\n",
    "    axis.set(title=title,\n",
    "       xlabel='Proportion', ylabel='')\n",
    "    plt.show();"
   ]
  },
  {
   "cell_type": "code",
   "execution_count": 23,
   "metadata": {},
   "outputs": [
    {
     "data": {
      "image/png": "[encoded data removed]",
      "text/plain": [
       "<Figure size 432x288 with 1 Axes>"
      ]
     },
     "metadata": {
      "needs_background": "light"
     },
     "output_type": "display_data"
    }
   ],
   "source": [
    "bar_categories(data=top_android['category'], title='Proportion of top 10 android categories')"
   ]
  },
  {
   "cell_type": "code",
   "execution_count": 24,
   "metadata": {},
   "outputs": [
    {
     "data": {
      "image/png": "[encoded data removed]",
      "text/plain": [
       "<Figure size 432x288 with 1 Axes>"
      ]
     },
     "metadata": {
      "needs_background": "light"
     },
     "output_type": "display_data"
    }
   ],
   "source": [
    "bar_categories(data=top_ios['primary_genre'], title='Proportion of top 10 ios categories')"
   ]
  },
  {
   "cell_type": "markdown",
   "metadata": {},
   "source": [
    "### Price"
   ]
  },
  {
   "cell_type": "code",
   "execution_count": 25,
   "metadata": {},
   "outputs": [],
   "source": [
    "def percentage_paid_apps(data):\n",
    "    return round((len(data[data['free'] == False]) / len(data))*100,2)"
   ]
  },
  {
   "cell_type": "code",
   "execution_count": 26,
   "metadata": {},
   "outputs": [
    {
     "name": "stdout",
     "output_type": "stream",
     "text": [
      "Percentage of paid apps in android: 1.95 %\n",
      "Percentage of paid apps in ios: 8.37 %\n"
     ]
    }
   ],
   "source": [
    "print('Percentage of paid apps in android:', percentage_paid_apps(android_data), \"%\")\n",
    "print('Percentage of paid apps in ios:', percentage_paid_apps(ios_data), \"%\")"
   ]
  },
  {
   "cell_type": "code",
   "execution_count": 27,
   "metadata": {},
   "outputs": [
    {
     "name": "stdout",
     "output_type": "stream",
     "text": [
      "count   45068.000000\n",
      "mean        5.311701\n",
      "std        18.115487\n",
      "min         0.000000\n",
      "25%         0.990000\n",
      "50%         1.990000\n",
      "75%         4.490000\n",
      "max       400.000000\n",
      "Name: price, dtype: float64\n"
     ]
    }
   ],
   "source": [
    "with pd.option_context('float_format', '{:f}'.format):\n",
    "    print(android_data[android_data['free'] == False]['price'].describe())"
   ]
  },
  {
   "cell_type": "code",
   "execution_count": 28,
   "metadata": {},
   "outputs": [
    {
     "name": "stdout",
     "output_type": "stream",
     "text": [
      "count   102502.000000\n",
      "mean         6.048838\n",
      "std         23.080538\n",
      "min          0.990000\n",
      "25%          0.990000\n",
      "50%          1.990000\n",
      "75%          4.990000\n",
      "max        999.990000\n",
      "Name: price, dtype: float64\n"
     ]
    }
   ],
   "source": [
    "with pd.option_context('float_format', '{:f}'.format):\n",
    "    print(ios_data[ios_data['free'] == False]['price'].describe())"
   ]
  },
  {
   "cell_type": "code",
   "execution_count": 29,
   "metadata": {},
   "outputs": [],
   "source": [
    "def bar_paid_proportion(data, title):\n",
    "    _, axis = plt.subplots()\n",
    "\n",
    "    # Plot a normalized countplot\n",
    "    data.value_counts(normalize=True).plot.barh()\n",
    "\n",
    "    # Label\n",
    "    axis.set(title=title,\n",
    "        xlabel='Proportion', ylabel='', yticklabels=[\"Free\", \"Paid\"])\n",
    "\n",
    "    plt.show()"
   ]
  },
  {
   "cell_type": "code",
   "execution_count": 30,
   "metadata": {},
   "outputs": [
    {
     "data": {
      "image/png": "[encoded data removed]",
      "text/plain": [
       "<Figure size 432x288 with 1 Axes>"
      ]
     },
     "metadata": {
      "needs_background": "light"
     },
     "output_type": "display_data"
    }
   ],
   "source": [
    "bar_paid_proportion(data = android_data['free'], title='Proportion of free/paid android apps')"
   ]
  },
  {
   "cell_type": "code",
   "execution_count": 31,
   "metadata": {},
   "outputs": [
    {
     "data": {
      "image/png": "[encoded data removed]",
      "text/plain": [
       "<Figure size 432x288 with 1 Axes>"
      ]
     },
     "metadata": {
      "needs_background": "light"
     },
     "output_type": "display_data"
    }
   ],
   "source": [
    "bar_paid_proportion(data = ios_data['free'], title='Proportion of free/paid ios apps')"
   ]
  }
 ],
 "metadata": {
  "interpreter": {
   "hash": "31f2aee4e71d21fbe5cf8b01ff0e069b9275f58929596ceb00d14d90e3e16cd6"
  },
  "kernelspec": {
   "display_name": "Python 3.8.9 64-bit",
   "language": "python",
   "name": "python3"
  },
  "language_info": {
   "codemirror_mode": {
    "name": "ipython",
    "version": 3
   },
   "file_extension": ".py",
   "mimetype": "text/x-python",
   "name": "python",
   "nbconvert_exporter": "python",
   "pygments_lexer": "ipython3",
   "version": "3.9.10"
  },
  "orig_nbformat": 4
 },
 "nbformat": 4,
 "nbformat_minor": 2
}
